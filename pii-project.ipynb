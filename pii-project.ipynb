{
 "cells": [
  {
   "cell_type": "code",
   "execution_count": 1,
   "id": "4bdbd190",
   "metadata": {
    "_cell_guid": "b1076dfc-b9ad-4769-8c92-a6c4dae69d19",
    "_uuid": "8f2839f25d086af736a60e9eeb907d3b93b6e0e5",
    "execution": {
     "iopub.execute_input": "2024-05-15T05:20:27.382676Z",
     "iopub.status.busy": "2024-05-15T05:20:27.381868Z",
     "iopub.status.idle": "2024-05-15T05:20:28.432804Z",
     "shell.execute_reply": "2024-05-15T05:20:28.429997Z"
    },
    "papermill": {
     "duration": 1.067947,
     "end_time": "2024-05-15T05:20:28.436891",
     "exception": false,
     "start_time": "2024-05-15T05:20:27.368944",
     "status": "completed"
    },
    "tags": []
   },
   "outputs": [
    {
     "name": "stdout",
     "output_type": "stream",
     "text": [
      "/kaggle/input/pii-detection-removal-from-educational-data/sample_submission.csv\n",
      "/kaggle/input/pii-detection-removal-from-educational-data/train.json\n",
      "/kaggle/input/pii-detection-removal-from-educational-data/test.json\n",
      "/kaggle/input/train-dataset/train.json\n",
      "/kaggle/input/train-mix/train_mix.json\n"
     ]
    }
   ],
   "source": [
    "# This Python 3 environment comes with many helpful analytics libraries installed\n",
    "# It is defined by the kaggle/python Docker image: https://github.com/kaggle/docker-python\n",
    "# For example, here's several helpful packages to load\n",
    "\n",
    "import numpy as np # linear algebra\n",
    "import pandas as pd # data processing, CSV file I/O (e.g. pd.read_csv)\n",
    "\n",
    "# Input data files are available in the read-only \"../input/\" directory\n",
    "# For example, running this (by clicking run or pressing Shift+Enter) will list all files under the input directory\n",
    "\n",
    "import os\n",
    "for dirname, _, filenames in os.walk('/kaggle/input'):\n",
    "    for filename in filenames:\n",
    "        print(os.path.join(dirname, filename))\n",
    "\n",
    "# You can write up to 20GB to the current directory (/kaggle/working/) that gets preserved as output when you create a version using \"Save & Run All\" \n",
    "# You can also write temporary files to /kaggle/temp/, but they won't be saved outside of the current session"
   ]
  },
  {
   "cell_type": "code",
   "execution_count": 2,
   "id": "11961b70",
   "metadata": {
    "execution": {
     "iopub.execute_input": "2024-05-15T05:20:28.464152Z",
     "iopub.status.busy": "2024-05-15T05:20:28.463167Z",
     "iopub.status.idle": "2024-05-15T05:20:33.978135Z",
     "shell.execute_reply": "2024-05-15T05:20:33.976604Z"
    },
    "papermill": {
     "duration": 5.533233,
     "end_time": "2024-05-15T05:20:33.981534",
     "exception": false,
     "start_time": "2024-05-15T05:20:28.448301",
     "status": "completed"
    },
    "tags": []
   },
   "outputs": [],
   "source": [
    "import torch\n",
    "import torch.nn as nn\n",
    "import torch.nn.functional as F\n",
    "from torch.utils.data import Dataset, DataLoader\n",
    "import json\n",
    "import random\n",
    "import gc\n",
    "import pandas as pd\n",
    "import matplotlib.pyplot as plt\n",
    "from sklearn.metrics import ConfusionMatrixDisplay"
   ]
  },
  {
   "cell_type": "code",
   "execution_count": 3,
   "id": "4f7f96b4",
   "metadata": {
    "execution": {
     "iopub.execute_input": "2024-05-15T05:20:34.005678Z",
     "iopub.status.busy": "2024-05-15T05:20:34.004917Z",
     "iopub.status.idle": "2024-05-15T05:20:34.011063Z",
     "shell.execute_reply": "2024-05-15T05:20:34.009670Z"
    },
    "papermill": {
     "duration": 0.021555,
     "end_time": "2024-05-15T05:20:34.013592",
     "exception": false,
     "start_time": "2024-05-15T05:20:33.992037",
     "status": "completed"
    },
    "tags": []
   },
   "outputs": [],
   "source": [
    "device = torch.device(\"cuda:0\") if torch.cuda.is_available() else torch.device(\"cpu\")"
   ]
  },
  {
   "cell_type": "code",
   "execution_count": 4,
   "id": "f51600e1",
   "metadata": {
    "execution": {
     "iopub.execute_input": "2024-05-15T05:20:34.036982Z",
     "iopub.status.busy": "2024-05-15T05:20:34.036475Z",
     "iopub.status.idle": "2024-05-15T05:20:39.264255Z",
     "shell.execute_reply": "2024-05-15T05:20:39.263025Z"
    },
    "papermill": {
     "duration": 5.24302,
     "end_time": "2024-05-15T05:20:39.267365",
     "exception": false,
     "start_time": "2024-05-15T05:20:34.024345",
     "status": "completed"
    },
    "tags": []
   },
   "outputs": [],
   "source": [
    "train_raw_data = json.load(open(\"/kaggle/input/pii-detection-removal-from-educational-data/train.json\"))\n",
    "train_raw_data.extend(json.load(open(\"/kaggle/input/train-mix/train_mix.json\")))"
   ]
  },
  {
   "cell_type": "code",
   "execution_count": 5,
   "id": "24e2bc10",
   "metadata": {
    "execution": {
     "iopub.execute_input": "2024-05-15T05:20:39.291809Z",
     "iopub.status.busy": "2024-05-15T05:20:39.291399Z",
     "iopub.status.idle": "2024-05-15T05:20:39.298472Z",
     "shell.execute_reply": "2024-05-15T05:20:39.297180Z"
    },
    "papermill": {
     "duration": 0.024067,
     "end_time": "2024-05-15T05:20:39.303079",
     "exception": false,
     "start_time": "2024-05-15T05:20:39.279012",
     "status": "completed"
    },
    "tags": []
   },
   "outputs": [
    {
     "name": "stdout",
     "output_type": "stream",
     "text": [
      "Item 0: {'document': 7, 'full_text': \"Design Thinking for innovation reflexion-Avril 2021-Nathalie Sylla\\n\\nChallenge & selection\\n\\nThe tool I use to help all stakeholders finding their way through the complexity of a project is the  mind map.\\n\\nWhat exactly is a mind map? According to the definition of Buzan T. and Buzan B. (1999, Dessine-moi  l'intelligence. Paris: Les Éditions d'Organisation.), the mind map (or heuristic diagram) is a graphic  representation technique that follows the natural functioning of the mind and allows the brain's  potential to be released. Cf Annex1\\n\\nThis tool has many advantages:\\n\\n•  It is accessible to all and does not require significant material investment and can be done  quickly\\n\\n•  It is scalable\\n\\n•  It allows categorization and linking of information\\n\\n•  It can be applied to any type of situation: notetaking, problem solving, analysis, creation of  new ideas\\n\\n•  It is suitable for all people and is easy to learn\\n\\n•  It is fun and encourages exchanges\\n\\n•  It makes visible the dimension of projects, opportunities, interconnections\\n\\n•  It synthesizes\\n\\n•  It makes the project understandable\\n\\n•  It allows you to explore ideas\\n\\nThe creation of a mind map starts with an idea/problem located at its center. This starting point  generates ideas/work areas, incremented around this center in a radial structure, which in turn is  completed with as many branches as new ideas.\\n\\nThis tool enables creativity and logic to be mobilized, it is a map of the thoughts.\\n\\nCreativity is enhanced because participants feel comfortable with the method.\\n\\nApplication & Insight\\n\\nI start the process of the mind map creation with the stakeholders standing around a large board  (white or paper board). In the center of the board, I write and highlight the topic to design.\\n\\nThrough a series of questions, I guide the stakeholders in modelling the mind map. I adapt the series  of questions according to the topic to be addressed. In the type of questions, we can use: who, what,  when, where, why, how, how much.\\n\\nThe use of the “why” is very interesting to understand the origin. By this way, the interviewed person  frees itself from paradigms and thus dares to propose new ideas / ways of functioning. I plan two  hours for a workshop.\\n\\nDesign Thinking for innovation reflexion-Avril 2021-Nathalie Sylla\\n\\nAfter modelling the mind map on paper, I propose to the participants a digital visualization of their  work with the addition of color codes, images and interconnections. This second workshop also lasts  two hours and allows the mind map to evolve. Once familiarized with it, the stakeholders discover  the power of the tool. Then, the second workshop brings out even more ideas and constructive  exchanges between the stakeholders. Around this new mind map, they have learned to work  together and want to make visible the untold ideas.\\n\\nI now present all the projects I manage in this type of format in order to ease rapid understanding for  decision-makers. These presentations are the core of my business models. The decision-makers are  thus able to identify the opportunities of the projects and can take quick decisions to validate them.  They find answers to their questions thank to a schematic representation.\\n\\nApproach\\n\\nWhat I find amazing with the facilitation of this type of workshop is the participants commitment for  the project. This tool helps to give meaning. The participants appropriate the story and want to keep  writing it. Then, they easily become actors or sponsors of the project. A trust relationship is built,  thus facilitating the implementation of related actions.\\n\\nDesign Thinking for innovation reflexion-Avril 2021-Nathalie Sylla\\n\\nAnnex 1: Mind Map Shared facilities project\\n\\n\", 'tokens': ['Design', 'Thinking', 'for', 'innovation', 'reflexion', '-', 'Avril', '2021', '-', 'Nathalie', 'Sylla', '\\n\\n', 'Challenge', '&', 'selection', '\\n\\n', 'The', 'tool', 'I', 'use', 'to', 'help', 'all', 'stakeholders', 'finding', 'their', 'way', 'through', 'the', 'complexity', 'of', 'a', 'project', 'is', 'the', ' ', 'mind', 'map', '.', '\\n\\n', 'What', 'exactly', 'is', 'a', 'mind', 'map', '?', 'According', 'to', 'the', 'definition', 'of', 'Buzan', 'T.', 'and', 'Buzan', 'B.', '(', '1999', ',', 'Dessine', '-', 'moi', ' ', \"l'intelligence\", '.', 'Paris', ':', 'Les', 'Éditions', \"d'Organisation\", '.', ')', ',', 'the', 'mind', 'map', '(', 'or', 'heuristic', 'diagram', ')', 'is', 'a', 'graphic', ' ', 'representation', 'technique', 'that', 'follows', 'the', 'natural', 'functioning', 'of', 'the', 'mind', 'and', 'allows', 'the', 'brain', \"'s\", ' ', 'potential', 'to', 'be', 'released', '.', 'Cf', 'Annex1', '\\n\\n', 'This', 'tool', 'has', 'many', 'advantages', ':', '\\n\\n', '•', ' ', 'It', 'is', 'accessible', 'to', 'all', 'and', 'does', 'not', 'require', 'significant', 'material', 'investment', 'and', 'can', 'be', 'done', ' ', 'quickly', '\\n\\n', '•', ' ', 'It', 'is', 'scalable', '\\n\\n', '•', ' ', 'It', 'allows', 'categorization', 'and', 'linking', 'of', 'information', '\\n\\n', '•', ' ', 'It', 'can', 'be', 'applied', 'to', 'any', 'type', 'of', 'situation', ':', 'notetaking', ',', 'problem', 'solving', ',', 'analysis', ',', 'creation', 'of', ' ', 'new', 'ideas', '\\n\\n', '•', ' ', 'It', 'is', 'suitable', 'for', 'all', 'people', 'and', 'is', 'easy', 'to', 'learn', '\\n\\n', '•', ' ', 'It', 'is', 'fun', 'and', 'encourages', 'exchanges', '\\n\\n', '•', ' ', 'It', 'makes', 'visible', 'the', 'dimension', 'of', 'projects', ',', 'opportunities', ',', 'interconnections', '\\n\\n', '•', ' ', 'It', 'synthesizes', '\\n\\n', '•', ' ', 'It', 'makes', 'the', 'project', 'understandable', '\\n\\n', '•', ' ', 'It', 'allows', 'you', 'to', 'explore', 'ideas', '\\n\\n', 'The', 'creation', 'of', 'a', 'mind', 'map', 'starts', 'with', 'an', 'idea', '/', 'problem', 'located', 'at', 'its', 'center', '.', 'This', 'starting', 'point', ' ', 'generates', 'ideas', '/', 'work', 'areas', ',', 'incremented', 'around', 'this', 'center', 'in', 'a', 'radial', 'structure', ',', 'which', 'in', 'turn', 'is', ' ', 'completed', 'with', 'as', 'many', 'branches', 'as', 'new', 'ideas', '.', '\\n\\n', 'This', 'tool', 'enables', 'creativity', 'and', 'logic', 'to', 'be', 'mobilized', ',', 'it', 'is', 'a', 'map', 'of', 'the', 'thoughts', '.', '\\n\\n', 'Creativity', 'is', 'enhanced', 'because', 'participants', 'feel', 'comfortable', 'with', 'the', 'method', '.', '\\n\\n', 'Application', '&', 'Insight', '\\n\\n', 'I', 'start', 'the', 'process', 'of', 'the', 'mind', 'map', 'creation', 'with', 'the', 'stakeholders', 'standing', 'around', 'a', 'large', 'board', ' ', '(', 'white', 'or', 'paper', 'board', ')', '.', 'In', 'the', 'center', 'of', 'the', 'board', ',', 'I', 'write', 'and', 'highlight', 'the', 'topic', 'to', 'design', '.', '\\n\\n', 'Through', 'a', 'series', 'of', 'questions', ',', 'I', 'guide', 'the', 'stakeholders', 'in', 'modelling', 'the', 'mind', 'map', '.', 'I', 'adapt', 'the', 'series', ' ', 'of', 'questions', 'according', 'to', 'the', 'topic', 'to', 'be', 'addressed', '.', 'In', 'the', 'type', 'of', 'questions', ',', 'we', 'can', 'use', ':', 'who', ',', 'what', ',', ' ', 'when', ',', 'where', ',', 'why', ',', 'how', ',', 'how', 'much', '.', '\\n\\n', 'The', 'use', 'of', 'the', '“', 'why', '”', 'is', 'very', 'interesting', 'to', 'understand', 'the', 'origin', '.', 'By', 'this', 'way', ',', 'the', 'interviewed', 'person', ' ', 'frees', 'itself', 'from', 'paradigms', 'and', 'thus', 'dares', 'to', 'propose', 'new', 'ideas', '/', 'ways', 'of', 'functioning', '.', 'I', 'plan', 'two', ' ', 'hours', 'for', 'a', 'workshop', '.', '\\n\\n', 'Design', 'Thinking', 'for', 'innovation', 'reflexion', '-', 'Avril', '2021', '-', 'Nathalie', 'Sylla', '\\n\\n', 'After', 'modelling', 'the', 'mind', 'map', 'on', 'paper', ',', 'I', 'propose', 'to', 'the', 'participants', 'a', 'digital', 'visualization', 'of', 'their', ' ', 'work', 'with', 'the', 'addition', 'of', 'color', 'codes', ',', 'images', 'and', 'interconnections', '.', 'This', 'second', 'workshop', 'also', 'lasts', ' ', 'two', 'hours', 'and', 'allows', 'the', 'mind', 'map', 'to', 'evolve', '.', 'Once', 'familiarized', 'with', 'it', ',', 'the', 'stakeholders', 'discover', ' ', 'the', 'power', 'of', 'the', 'tool', '.', 'Then', ',', 'the', 'second', 'workshop', 'brings', 'out', 'even', 'more', 'ideas', 'and', 'constructive', ' ', 'exchanges', 'between', 'the', 'stakeholders', '.', 'Around', 'this', 'new', 'mind', 'map', ',', 'they', 'have', 'learned', 'to', 'work', ' ', 'together', 'and', 'want', 'to', 'make', 'visible', 'the', 'untold', 'ideas', '.', '\\n\\n', 'I', 'now', 'present', 'all', 'the', 'projects', 'I', 'manage', 'in', 'this', 'type', 'of', 'format', 'in', 'order', 'to', 'ease', 'rapid', 'understanding', 'for', ' ', 'decision', '-', 'makers', '.', 'These', 'presentations', 'are', 'the', 'core', 'of', 'my', 'business', 'models', '.', 'The', 'decision', '-', 'makers', 'are', ' ', 'thus', 'able', 'to', 'identify', 'the', 'opportunities', 'of', 'the', 'projects', 'and', 'can', 'take', 'quick', 'decisions', 'to', 'validate', 'them', '.', ' ', 'They', 'find', 'answers', 'to', 'their', 'questions', 'thank', 'to', 'a', 'schematic', 'representation', '.', '\\n\\n', 'Approach', '\\n\\n', 'What', 'I', 'find', 'amazing', 'with', 'the', 'facilitation', 'of', 'this', 'type', 'of', 'workshop', 'is', 'the', 'participants', 'commitment', 'for', ' ', 'the', 'project', '.', 'This', 'tool', 'helps', 'to', 'give', 'meaning', '.', 'The', 'participants', 'appropriate', 'the', 'story', 'and', 'want', 'to', 'keep', ' ', 'writing', 'it', '.', 'Then', ',', 'they', 'easily', 'become', 'actors', 'or', 'sponsors', 'of', 'the', 'project', '.', 'A', 'trust', 'relationship', 'is', 'built', ',', ' ', 'thus', 'facilitating', 'the', 'implementation', 'of', 'related', 'actions', '.', '\\n\\n', 'Design', 'Thinking', 'for', 'innovation', 'reflexion', '-', 'Avril', '2021', '-', 'Nathalie', 'Sylla', '\\n\\n', 'Annex', '1', ':', 'Mind', 'Map', 'Shared', 'facilities', 'project', '\\n\\n'], 'trailing_whitespace': [True, True, True, True, False, False, True, False, False, True, False, False, True, True, False, False, True, True, True, True, True, True, True, True, True, True, True, True, True, True, True, True, True, True, True, False, True, False, False, False, True, True, True, True, True, False, True, True, True, True, True, True, True, True, True, True, True, False, False, True, False, False, True, False, False, True, False, True, True, True, False, False, False, True, True, True, True, False, True, True, False, True, True, True, True, False, True, True, True, True, True, True, True, True, True, True, True, True, True, False, True, False, True, True, True, False, True, True, False, False, True, True, True, True, False, False, False, True, False, True, True, True, True, True, True, True, True, True, True, True, True, True, True, True, True, False, False, False, True, False, True, True, False, False, True, False, True, True, True, True, True, True, False, False, True, False, True, True, True, True, True, True, True, True, False, True, False, True, True, False, True, False, True, True, True, False, True, False, False, True, False, True, True, True, True, True, True, True, True, True, True, False, False, True, False, True, True, True, True, True, False, False, True, False, True, True, True, True, True, True, False, True, False, True, False, False, True, False, True, False, False, True, False, True, True, True, True, False, False, True, False, True, True, True, True, True, False, False, True, True, True, True, True, True, True, True, True, False, False, True, True, True, True, False, True, True, True, True, False, True, False, False, True, False, True, True, True, True, True, True, True, True, False, True, True, True, True, True, False, True, True, True, True, True, True, True, False, False, False, True, True, True, True, True, True, True, True, False, True, True, True, True, True, True, True, False, False, False, True, True, True, True, True, True, True, True, True, False, False, False, True, True, False, False, True, True, True, True, True, True, True, True, True, True, True, True, True, True, True, True, True, False, False, True, True, True, False, False, True, True, True, True, True, True, False, True, True, True, True, True, True, True, True, False, False, False, True, True, True, True, False, True, True, True, True, True, True, True, True, True, False, True, True, True, True, True, False, True, True, True, True, True, True, True, True, False, True, True, True, True, True, False, True, True, True, False, True, False, True, False, True, False, False, True, False, True, False, True, False, True, True, False, False, False, True, True, True, True, False, False, True, True, True, True, True, True, True, False, True, True, True, False, True, True, True, True, False, True, True, True, True, True, True, True, True, True, True, True, True, True, True, False, True, True, True, True, False, True, True, True, False, False, False, True, True, True, True, False, False, True, False, False, True, False, False, True, True, True, True, True, True, False, True, True, True, True, True, True, True, True, True, True, True, False, True, True, True, True, True, True, False, True, True, True, False, True, True, True, True, True, True, False, True, True, True, True, True, True, True, True, False, True, True, True, True, False, True, True, True, True, False, True, True, True, True, False, True, False, True, True, True, True, True, True, True, True, True, True, True, False, True, True, True, False, True, True, True, True, True, False, True, True, True, True, True, True, False, True, True, True, True, True, True, True, True, False, False, False, True, True, True, True, True, True, True, True, True, True, True, True, True, True, True, True, True, True, True, True, False, False, False, False, True, True, True, True, True, True, True, True, True, False, True, True, False, False, True, True, False, True, True, True, True, True, True, True, True, True, True, True, True, True, True, True, True, False, True, False, True, True, True, True, True, True, True, True, True, True, False, False, False, False, False, True, True, True, True, True, True, True, True, True, True, True, True, True, True, True, True, True, False, True, False, True, True, True, True, True, True, False, True, True, True, True, True, True, True, True, True, True, False, True, False, True, False, True, True, True, True, True, True, True, True, True, False, True, True, True, True, True, False, True, False, True, True, True, True, True, True, False, False, False, True, True, True, True, False, False, True, False, False, True, False, False, True, False, True, True, True, True, True, False, False], 'labels': ['O', 'O', 'O', 'O', 'O', 'O', 'O', 'O', 'O', 'B-NAME_STUDENT', 'I-NAME_STUDENT', 'O', 'O', 'O', 'O', 'O', 'O', 'O', 'O', 'O', 'O', 'O', 'O', 'O', 'O', 'O', 'O', 'O', 'O', 'O', 'O', 'O', 'O', 'O', 'O', 'O', 'O', 'O', 'O', 'O', 'O', 'O', 'O', 'O', 'O', 'O', 'O', 'O', 'O', 'O', 'O', 'O', 'O', 'O', 'O', 'O', 'O', 'O', 'O', 'O', 'O', 'O', 'O', 'O', 'O', 'O', 'O', 'O', 'O', 'O', 'O', 'O', 'O', 'O', 'O', 'O', 'O', 'O', 'O', 'O', 'O', 'O', 'O', 'O', 'O', 'O', 'O', 'O', 'O', 'O', 'O', 'O', 'O', 'O', 'O', 'O', 'O', 'O', 'O', 'O', 'O', 'O', 'O', 'O', 'O', 'O', 'O', 'O', 'O', 'O', 'O', 'O', 'O', 'O', 'O', 'O', 'O', 'O', 'O', 'O', 'O', 'O', 'O', 'O', 'O', 'O', 'O', 'O', 'O', 'O', 'O', 'O', 'O', 'O', 'O', 'O', 'O', 'O', 'O', 'O', 'O', 'O', 'O', 'O', 'O', 'O', 'O', 'O', 'O', 'O', 'O', 'O', 'O', 'O', 'O', 'O', 'O', 'O', 'O', 'O', 'O', 'O', 'O', 'O', 'O', 'O', 'O', 'O', 'O', 'O', 'O', 'O', 'O', 'O', 'O', 'O', 'O', 'O', 'O', 'O', 'O', 'O', 'O', 'O', 'O', 'O', 'O', 'O', 'O', 'O', 'O', 'O', 'O', 'O', 'O', 'O', 'O', 'O', 'O', 'O', 'O', 'O', 'O', 'O', 'O', 'O', 'O', 'O', 'O', 'O', 'O', 'O', 'O', 'O', 'O', 'O', 'O', 'O', 'O', 'O', 'O', 'O', 'O', 'O', 'O', 'O', 'O', 'O', 'O', 'O', 'O', 'O', 'O', 'O', 'O', 'O', 'O', 'O', 'O', 'O', 'O', 'O', 'O', 'O', 'O', 'O', 'O', 'O', 'O', 'O', 'O', 'O', 'O', 'O', 'O', 'O', 'O', 'O', 'O', 'O', 'O', 'O', 'O', 'O', 'O', 'O', 'O', 'O', 'O', 'O', 'O', 'O', 'O', 'O', 'O', 'O', 'O', 'O', 'O', 'O', 'O', 'O', 'O', 'O', 'O', 'O', 'O', 'O', 'O', 'O', 'O', 'O', 'O', 'O', 'O', 'O', 'O', 'O', 'O', 'O', 'O', 'O', 'O', 'O', 'O', 'O', 'O', 'O', 'O', 'O', 'O', 'O', 'O', 'O', 'O', 'O', 'O', 'O', 'O', 'O', 'O', 'O', 'O', 'O', 'O', 'O', 'O', 'O', 'O', 'O', 'O', 'O', 'O', 'O', 'O', 'O', 'O', 'O', 'O', 'O', 'O', 'O', 'O', 'O', 'O', 'O', 'O', 'O', 'O', 'O', 'O', 'O', 'O', 'O', 'O', 'O', 'O', 'O', 'O', 'O', 'O', 'O', 'O', 'O', 'O', 'O', 'O', 'O', 'O', 'O', 'O', 'O', 'O', 'O', 'O', 'O', 'O', 'O', 'O', 'O', 'O', 'O', 'O', 'O', 'O', 'O', 'O', 'O', 'O', 'O', 'O', 'O', 'O', 'O', 'O', 'O', 'O', 'O', 'O', 'O', 'O', 'O', 'O', 'O', 'O', 'O', 'O', 'O', 'O', 'O', 'O', 'O', 'O', 'O', 'O', 'O', 'O', 'O', 'O', 'O', 'O', 'O', 'O', 'O', 'O', 'O', 'O', 'O', 'O', 'O', 'O', 'O', 'O', 'O', 'O', 'O', 'O', 'O', 'O', 'O', 'O', 'O', 'O', 'O', 'O', 'O', 'O', 'O', 'O', 'O', 'O', 'O', 'O', 'O', 'O', 'O', 'O', 'O', 'O', 'O', 'O', 'O', 'O', 'O', 'O', 'O', 'O', 'O', 'O', 'O', 'O', 'O', 'O', 'O', 'O', 'O', 'O', 'O', 'O', 'O', 'O', 'O', 'B-NAME_STUDENT', 'I-NAME_STUDENT', 'O', 'O', 'O', 'O', 'O', 'O', 'O', 'O', 'O', 'O', 'O', 'O', 'O', 'O', 'O', 'O', 'O', 'O', 'O', 'O', 'O', 'O', 'O', 'O', 'O', 'O', 'O', 'O', 'O', 'O', 'O', 'O', 'O', 'O', 'O', 'O', 'O', 'O', 'O', 'O', 'O', 'O', 'O', 'O', 'O', 'O', 'O', 'O', 'O', 'O', 'O', 'O', 'O', 'O', 'O', 'O', 'O', 'O', 'O', 'O', 'O', 'O', 'O', 'O', 'O', 'O', 'O', 'O', 'O', 'O', 'O', 'O', 'O', 'O', 'O', 'O', 'O', 'O', 'O', 'O', 'O', 'O', 'O', 'O', 'O', 'O', 'O', 'O', 'O', 'O', 'O', 'O', 'O', 'O', 'O', 'O', 'O', 'O', 'O', 'O', 'O', 'O', 'O', 'O', 'O', 'O', 'O', 'O', 'O', 'O', 'O', 'O', 'O', 'O', 'O', 'O', 'O', 'O', 'O', 'O', 'O', 'O', 'O', 'O', 'O', 'O', 'O', 'O', 'O', 'O', 'O', 'O', 'O', 'O', 'O', 'O', 'O', 'O', 'O', 'O', 'O', 'O', 'O', 'O', 'O', 'O', 'O', 'O', 'O', 'O', 'O', 'O', 'O', 'O', 'O', 'O', 'O', 'O', 'O', 'O', 'O', 'O', 'O', 'O', 'O', 'O', 'O', 'O', 'O', 'O', 'O', 'O', 'O', 'O', 'O', 'O', 'O', 'O', 'O', 'O', 'O', 'O', 'O', 'O', 'O', 'O', 'O', 'O', 'O', 'O', 'O', 'O', 'O', 'O', 'O', 'O', 'O', 'O', 'O', 'O', 'O', 'O', 'O', 'O', 'O', 'O', 'O', 'O', 'O', 'O', 'O', 'O', 'O', 'O', 'O', 'O', 'O', 'O', 'O', 'O', 'O', 'O', 'O', 'O', 'O', 'O', 'O', 'O', 'O', 'O', 'O', 'O', 'O', 'O', 'O', 'O', 'O', 'O', 'O', 'O', 'O', 'O', 'O', 'O', 'O', 'O', 'O', 'O', 'O', 'O', 'O', 'O', 'O', 'O', 'O', 'O', 'O', 'B-NAME_STUDENT', 'I-NAME_STUDENT', 'O', 'O', 'O', 'O', 'O', 'O', 'O', 'O', 'O', 'O']}\n"
     ]
    }
   ],
   "source": [
    "# Display the first 20 elements\n",
    "for i, item in enumerate(train_raw_data[:1]):\n",
    "    print(f\"Item {i}: {item}\")"
   ]
  },
  {
   "cell_type": "code",
   "execution_count": 6,
   "id": "3e07ef66",
   "metadata": {
    "execution": {
     "iopub.execute_input": "2024-05-15T05:20:39.326197Z",
     "iopub.status.busy": "2024-05-15T05:20:39.325817Z",
     "iopub.status.idle": "2024-05-15T05:20:39.464547Z",
     "shell.execute_reply": "2024-05-15T05:20:39.462790Z"
    },
    "papermill": {
     "duration": 0.15397,
     "end_time": "2024-05-15T05:20:39.467616",
     "exception": false,
     "start_time": "2024-05-15T05:20:39.313646",
     "status": "completed"
    },
    "tags": []
   },
   "outputs": [
    {
     "data": {
      "text/html": [
       "<div>\n",
       "<style scoped>\n",
       "    .dataframe tbody tr th:only-of-type {\n",
       "        vertical-align: middle;\n",
       "    }\n",
       "\n",
       "    .dataframe tbody tr th {\n",
       "        vertical-align: top;\n",
       "    }\n",
       "\n",
       "    .dataframe thead th {\n",
       "        text-align: right;\n",
       "    }\n",
       "</style>\n",
       "<table border=\"1\" class=\"dataframe\">\n",
       "  <thead>\n",
       "    <tr style=\"text-align: right;\">\n",
       "      <th></th>\n",
       "      <th>document</th>\n",
       "      <th>full_text</th>\n",
       "      <th>tokens</th>\n",
       "      <th>trailing_whitespace</th>\n",
       "      <th>labels</th>\n",
       "    </tr>\n",
       "  </thead>\n",
       "  <tbody>\n",
       "    <tr>\n",
       "      <th>0</th>\n",
       "      <td>7</td>\n",
       "      <td>Design Thinking for innovation reflexion-Avril...</td>\n",
       "      <td>[Design, Thinking, for, innovation, reflexion,...</td>\n",
       "      <td>[True, True, True, True, False, False, True, F...</td>\n",
       "      <td>[O, O, O, O, O, O, O, O, O, B-NAME_STUDENT, I-...</td>\n",
       "    </tr>\n",
       "    <tr>\n",
       "      <th>1</th>\n",
       "      <td>10</td>\n",
       "      <td>Diego Estrada\\n\\nDesign Thinking Assignment\\n\\...</td>\n",
       "      <td>[Diego, Estrada, \\n\\n, Design, Thinking, Assig...</td>\n",
       "      <td>[True, False, False, True, True, False, False,...</td>\n",
       "      <td>[B-NAME_STUDENT, I-NAME_STUDENT, O, O, O, O, O...</td>\n",
       "    </tr>\n",
       "    <tr>\n",
       "      <th>2</th>\n",
       "      <td>16</td>\n",
       "      <td>Reporting process\\n\\nby Gilberto Gamboa\\n\\nCha...</td>\n",
       "      <td>[Reporting, process, \\n\\n, by, Gilberto, Gambo...</td>\n",
       "      <td>[True, False, False, True, True, False, False,...</td>\n",
       "      <td>[O, O, O, O, B-NAME_STUDENT, I-NAME_STUDENT, O...</td>\n",
       "    </tr>\n",
       "    <tr>\n",
       "      <th>3</th>\n",
       "      <td>20</td>\n",
       "      <td>Design Thinking for Innovation\\n\\nSindy Samaca...</td>\n",
       "      <td>[Design, Thinking, for, Innovation, \\n\\n, Sind...</td>\n",
       "      <td>[True, True, True, False, False, True, False, ...</td>\n",
       "      <td>[O, O, O, O, O, B-NAME_STUDENT, I-NAME_STUDENT...</td>\n",
       "    </tr>\n",
       "    <tr>\n",
       "      <th>4</th>\n",
       "      <td>56</td>\n",
       "      <td>Assignment:  Visualization Reflection  Submitt...</td>\n",
       "      <td>[Assignment, :,   , Visualization,  , Reflecti...</td>\n",
       "      <td>[False, False, False, False, False, False, Fal...</td>\n",
       "      <td>[O, O, O, O, O, O, O, O, O, O, O, O, B-NAME_ST...</td>\n",
       "    </tr>\n",
       "    <tr>\n",
       "      <th>5</th>\n",
       "      <td>86</td>\n",
       "      <td>Cheese Startup - Learning Launch ​by Eladio Am...</td>\n",
       "      <td>[Cheese, Startup, -, Learning, Launch, ​by, El...</td>\n",
       "      <td>[True, True, True, True, True, True, True, Fal...</td>\n",
       "      <td>[O, O, O, O, O, O, B-NAME_STUDENT, I-NAME_STUD...</td>\n",
       "    </tr>\n",
       "    <tr>\n",
       "      <th>6</th>\n",
       "      <td>93</td>\n",
       "      <td>Silvia Villalobos\\n\\nChallenge:\\n\\nThere is a ...</td>\n",
       "      <td>[Silvia, Villalobos, \\n\\n, Challenge, :, \\n\\n,...</td>\n",
       "      <td>[True, False, False, False, False, False, True...</td>\n",
       "      <td>[B-NAME_STUDENT, I-NAME_STUDENT, O, O, O, O, O...</td>\n",
       "    </tr>\n",
       "    <tr>\n",
       "      <th>7</th>\n",
       "      <td>104</td>\n",
       "      <td>Storytelling  The Path to Innovation\\n\\nDr Sak...</td>\n",
       "      <td>[Storytelling,  , The, Path, to, Innovation, \\...</td>\n",
       "      <td>[True, False, True, True, True, False, False, ...</td>\n",
       "      <td>[O, O, O, O, O, O, O, O, B-NAME_STUDENT, I-NAM...</td>\n",
       "    </tr>\n",
       "    <tr>\n",
       "      <th>8</th>\n",
       "      <td>112</td>\n",
       "      <td>Reflection – Learning Launch\\n\\nFrancisco Ferr...</td>\n",
       "      <td>[Reflection, –, Learning, Launch, \\n\\n, Franci...</td>\n",
       "      <td>[True, True, True, False, False, True, False, ...</td>\n",
       "      <td>[O, O, O, O, O, B-NAME_STUDENT, I-NAME_STUDENT...</td>\n",
       "    </tr>\n",
       "    <tr>\n",
       "      <th>9</th>\n",
       "      <td>123</td>\n",
       "      <td>Gandhi Institute of Technology and Management ...</td>\n",
       "      <td>[Gandhi, Institute, of, Technology, and, Manag...</td>\n",
       "      <td>[True, True, True, True, True, True, False, Tr...</td>\n",
       "      <td>[O, O, O, O, O, O, O, O, O, O, O, O, O, O, O, ...</td>\n",
       "    </tr>\n",
       "    <tr>\n",
       "      <th>10</th>\n",
       "      <td>136</td>\n",
       "      <td>Dear Corrector,\\n\\nThank you for taking the ti...</td>\n",
       "      <td>[Dear, Corrector, ,, \\n\\n, Thank, you, for, ta...</td>\n",
       "      <td>[True, False, False, False, True, True, True, ...</td>\n",
       "      <td>[O, O, O, O, O, O, O, O, O, O, O, O, O, O, O, ...</td>\n",
       "    </tr>\n",
       "    <tr>\n",
       "      <th>11</th>\n",
       "      <td>166</td>\n",
       "      <td>Pepa Medrano\\n\\nDesign Thinking for Innovation...</td>\n",
       "      <td>[Pepa, Medrano, \\n\\n, Design, Thinking, for, I...</td>\n",
       "      <td>[True, False, False, True, True, True, True, F...</td>\n",
       "      <td>[B-NAME_STUDENT, I-NAME_STUDENT, O, O, O, O, O...</td>\n",
       "    </tr>\n",
       "    <tr>\n",
       "      <th>12</th>\n",
       "      <td>204</td>\n",
       "      <td>Reflection – Visualization   Deiby\\n\\nChalleng...</td>\n",
       "      <td>[Reflection, –, Visualization,   , Deiby, \\n\\n...</td>\n",
       "      <td>[True, True, True, False, False, False, True, ...</td>\n",
       "      <td>[O, O, O, O, B-NAME_STUDENT, O, O, O, O, O, O,...</td>\n",
       "    </tr>\n",
       "    <tr>\n",
       "      <th>13</th>\n",
       "      <td>214</td>\n",
       "      <td>Reflection – Visualization\\n\\nFareed Ponce\\n\\n...</td>\n",
       "      <td>[Reflection, –, Visualization, \\n\\n, Fareed, P...</td>\n",
       "      <td>[True, True, False, False, True, False, False,...</td>\n",
       "      <td>[O, O, O, O, B-NAME_STUDENT, I-NAME_STUDENT, O...</td>\n",
       "    </tr>\n",
       "    <tr>\n",
       "      <th>14</th>\n",
       "      <td>269</td>\n",
       "      <td>Mind Mapping (Module 3)\\n\\nChallenge\\n\\nIn the...</td>\n",
       "      <td>[Mind, Mapping, (, Module, 3, ), \\n\\n, Challen...</td>\n",
       "      <td>[True, True, False, True, False, False, False,...</td>\n",
       "      <td>[O, O, O, O, O, O, O, O, O, O, O, O, O, O, O, ...</td>\n",
       "    </tr>\n",
       "    <tr>\n",
       "      <th>15</th>\n",
       "      <td>288</td>\n",
       "      <td>Rajinder Santos  Design Thinking for Innovatio...</td>\n",
       "      <td>[Rajinder, Santos,  , Design, Thinking, for, I...</td>\n",
       "      <td>[True, True, False, True, True, True, True, Fa...</td>\n",
       "      <td>[B-NAME_STUDENT, I-NAME_STUDENT, O, O, O, O, O...</td>\n",
       "    </tr>\n",
       "    <tr>\n",
       "      <th>16</th>\n",
       "      <td>308</td>\n",
       "      <td>Maud Dias, Talent Acquisition Manager, Financi...</td>\n",
       "      <td>[Maud, Dias, ,, Talent, Acquisition, Manager, ...</td>\n",
       "      <td>[True, False, True, True, True, False, True, T...</td>\n",
       "      <td>[B-NAME_STUDENT, I-NAME_STUDENT, O, O, O, O, O...</td>\n",
       "    </tr>\n",
       "    <tr>\n",
       "      <th>17</th>\n",
       "      <td>317</td>\n",
       "      <td>Reflection-Storytelling\\n\\nChallenge    Storyt...</td>\n",
       "      <td>[Reflection, -, Storytelling, \\n\\n, Challenge,...</td>\n",
       "      <td>[False, False, False, False, False, False, Tru...</td>\n",
       "      <td>[O, O, O, O, O, O, O, O, O, O, O, O, O, O, O, ...</td>\n",
       "    </tr>\n",
       "    <tr>\n",
       "      <th>18</th>\n",
       "      <td>324</td>\n",
       "      <td>Design Thinking for Innovation\\n\\nof Universit...</td>\n",
       "      <td>[Design, Thinking, for, Innovation, \\n\\n, of, ...</td>\n",
       "      <td>[True, True, True, False, False, True, True, T...</td>\n",
       "      <td>[O, O, O, O, O, O, O, O, O, O, O, O, O, B-NAME...</td>\n",
       "    </tr>\n",
       "    <tr>\n",
       "      <th>19</th>\n",
       "      <td>330</td>\n",
       "      <td>STORY TELLING AS A TOOL FOR KNOWLEDGE TRANSFER...</td>\n",
       "      <td>[STORY, TELLING, AS, A, TOOL, FOR, KNOWLEDGE, ...</td>\n",
       "      <td>[True, True, True, True, True, True, True, Tru...</td>\n",
       "      <td>[O, O, O, O, O, O, O, O, O, O, O, O, O, O, O, ...</td>\n",
       "    </tr>\n",
       "  </tbody>\n",
       "</table>\n",
       "</div>"
      ],
      "text/plain": [
       "   document                                          full_text  \\\n",
       "0         7  Design Thinking for innovation reflexion-Avril...   \n",
       "1        10  Diego Estrada\\n\\nDesign Thinking Assignment\\n\\...   \n",
       "2        16  Reporting process\\n\\nby Gilberto Gamboa\\n\\nCha...   \n",
       "3        20  Design Thinking for Innovation\\n\\nSindy Samaca...   \n",
       "4        56  Assignment:  Visualization Reflection  Submitt...   \n",
       "5        86  Cheese Startup - Learning Launch ​by Eladio Am...   \n",
       "6        93  Silvia Villalobos\\n\\nChallenge:\\n\\nThere is a ...   \n",
       "7       104  Storytelling  The Path to Innovation\\n\\nDr Sak...   \n",
       "8       112  Reflection – Learning Launch\\n\\nFrancisco Ferr...   \n",
       "9       123  Gandhi Institute of Technology and Management ...   \n",
       "10      136  Dear Corrector,\\n\\nThank you for taking the ti...   \n",
       "11      166  Pepa Medrano\\n\\nDesign Thinking for Innovation...   \n",
       "12      204  Reflection – Visualization   Deiby\\n\\nChalleng...   \n",
       "13      214  Reflection – Visualization\\n\\nFareed Ponce\\n\\n...   \n",
       "14      269  Mind Mapping (Module 3)\\n\\nChallenge\\n\\nIn the...   \n",
       "15      288  Rajinder Santos  Design Thinking for Innovatio...   \n",
       "16      308  Maud Dias, Talent Acquisition Manager, Financi...   \n",
       "17      317  Reflection-Storytelling\\n\\nChallenge    Storyt...   \n",
       "18      324  Design Thinking for Innovation\\n\\nof Universit...   \n",
       "19      330  STORY TELLING AS A TOOL FOR KNOWLEDGE TRANSFER...   \n",
       "\n",
       "                                               tokens  \\\n",
       "0   [Design, Thinking, for, innovation, reflexion,...   \n",
       "1   [Diego, Estrada, \\n\\n, Design, Thinking, Assig...   \n",
       "2   [Reporting, process, \\n\\n, by, Gilberto, Gambo...   \n",
       "3   [Design, Thinking, for, Innovation, \\n\\n, Sind...   \n",
       "4   [Assignment, :,   , Visualization,  , Reflecti...   \n",
       "5   [Cheese, Startup, -, Learning, Launch, ​by, El...   \n",
       "6   [Silvia, Villalobos, \\n\\n, Challenge, :, \\n\\n,...   \n",
       "7   [Storytelling,  , The, Path, to, Innovation, \\...   \n",
       "8   [Reflection, –, Learning, Launch, \\n\\n, Franci...   \n",
       "9   [Gandhi, Institute, of, Technology, and, Manag...   \n",
       "10  [Dear, Corrector, ,, \\n\\n, Thank, you, for, ta...   \n",
       "11  [Pepa, Medrano, \\n\\n, Design, Thinking, for, I...   \n",
       "12  [Reflection, –, Visualization,   , Deiby, \\n\\n...   \n",
       "13  [Reflection, –, Visualization, \\n\\n, Fareed, P...   \n",
       "14  [Mind, Mapping, (, Module, 3, ), \\n\\n, Challen...   \n",
       "15  [Rajinder, Santos,  , Design, Thinking, for, I...   \n",
       "16  [Maud, Dias, ,, Talent, Acquisition, Manager, ...   \n",
       "17  [Reflection, -, Storytelling, \\n\\n, Challenge,...   \n",
       "18  [Design, Thinking, for, Innovation, \\n\\n, of, ...   \n",
       "19  [STORY, TELLING, AS, A, TOOL, FOR, KNOWLEDGE, ...   \n",
       "\n",
       "                                  trailing_whitespace  \\\n",
       "0   [True, True, True, True, False, False, True, F...   \n",
       "1   [True, False, False, True, True, False, False,...   \n",
       "2   [True, False, False, True, True, False, False,...   \n",
       "3   [True, True, True, False, False, True, False, ...   \n",
       "4   [False, False, False, False, False, False, Fal...   \n",
       "5   [True, True, True, True, True, True, True, Fal...   \n",
       "6   [True, False, False, False, False, False, True...   \n",
       "7   [True, False, True, True, True, False, False, ...   \n",
       "8   [True, True, True, False, False, True, False, ...   \n",
       "9   [True, True, True, True, True, True, False, Tr...   \n",
       "10  [True, False, False, False, True, True, True, ...   \n",
       "11  [True, False, False, True, True, True, True, F...   \n",
       "12  [True, True, True, False, False, False, True, ...   \n",
       "13  [True, True, False, False, True, False, False,...   \n",
       "14  [True, True, False, True, False, False, False,...   \n",
       "15  [True, True, False, True, True, True, True, Fa...   \n",
       "16  [True, False, True, True, True, False, True, T...   \n",
       "17  [False, False, False, False, False, False, Tru...   \n",
       "18  [True, True, True, False, False, True, True, T...   \n",
       "19  [True, True, True, True, True, True, True, Tru...   \n",
       "\n",
       "                                               labels  \n",
       "0   [O, O, O, O, O, O, O, O, O, B-NAME_STUDENT, I-...  \n",
       "1   [B-NAME_STUDENT, I-NAME_STUDENT, O, O, O, O, O...  \n",
       "2   [O, O, O, O, B-NAME_STUDENT, I-NAME_STUDENT, O...  \n",
       "3   [O, O, O, O, O, B-NAME_STUDENT, I-NAME_STUDENT...  \n",
       "4   [O, O, O, O, O, O, O, O, O, O, O, O, B-NAME_ST...  \n",
       "5   [O, O, O, O, O, O, B-NAME_STUDENT, I-NAME_STUD...  \n",
       "6   [B-NAME_STUDENT, I-NAME_STUDENT, O, O, O, O, O...  \n",
       "7   [O, O, O, O, O, O, O, O, B-NAME_STUDENT, I-NAM...  \n",
       "8   [O, O, O, O, O, B-NAME_STUDENT, I-NAME_STUDENT...  \n",
       "9   [O, O, O, O, O, O, O, O, O, O, O, O, O, O, O, ...  \n",
       "10  [O, O, O, O, O, O, O, O, O, O, O, O, O, O, O, ...  \n",
       "11  [B-NAME_STUDENT, I-NAME_STUDENT, O, O, O, O, O...  \n",
       "12  [O, O, O, O, B-NAME_STUDENT, O, O, O, O, O, O,...  \n",
       "13  [O, O, O, O, B-NAME_STUDENT, I-NAME_STUDENT, O...  \n",
       "14  [O, O, O, O, O, O, O, O, O, O, O, O, O, O, O, ...  \n",
       "15  [B-NAME_STUDENT, I-NAME_STUDENT, O, O, O, O, O...  \n",
       "16  [B-NAME_STUDENT, I-NAME_STUDENT, O, O, O, O, O...  \n",
       "17  [O, O, O, O, O, O, O, O, O, O, O, O, O, O, O, ...  \n",
       "18  [O, O, O, O, O, O, O, O, O, O, O, O, O, B-NAME...  \n",
       "19  [O, O, O, O, O, O, O, O, O, O, O, O, O, O, O, ...  "
      ]
     },
     "execution_count": 6,
     "metadata": {},
     "output_type": "execute_result"
    }
   ],
   "source": [
    "# Convert the list of dictionaries to a pandas DataFrame\n",
    "train_df = pd.DataFrame(train_raw_data)\n",
    "train_df.head(20)"
   ]
  },
  {
   "cell_type": "code",
   "execution_count": 7,
   "id": "51a12700",
   "metadata": {
    "execution": {
     "iopub.execute_input": "2024-05-15T05:20:39.494695Z",
     "iopub.status.busy": "2024-05-15T05:20:39.494257Z",
     "iopub.status.idle": "2024-05-15T05:20:50.862586Z",
     "shell.execute_reply": "2024-05-15T05:20:50.861178Z"
    },
    "papermill": {
     "duration": 11.384497,
     "end_time": "2024-05-15T05:20:50.865414",
     "exception": false,
     "start_time": "2024-05-15T05:20:39.480917",
     "status": "completed"
    },
    "tags": []
   },
   "outputs": [
    {
     "data": {
      "text/html": [
       "<div>\n",
       "<style scoped>\n",
       "    .dataframe tbody tr th:only-of-type {\n",
       "        vertical-align: middle;\n",
       "    }\n",
       "\n",
       "    .dataframe tbody tr th {\n",
       "        vertical-align: top;\n",
       "    }\n",
       "\n",
       "    .dataframe thead th {\n",
       "        text-align: right;\n",
       "    }\n",
       "</style>\n",
       "<table border=\"1\" class=\"dataframe\">\n",
       "  <thead>\n",
       "    <tr style=\"text-align: right;\">\n",
       "      <th></th>\n",
       "      <th>document</th>\n",
       "      <th>full_text</th>\n",
       "      <th>tokens</th>\n",
       "      <th>trailing_whitespace</th>\n",
       "      <th>labels</th>\n",
       "    </tr>\n",
       "  </thead>\n",
       "  <tbody>\n",
       "    <tr>\n",
       "      <th>count</th>\n",
       "      <td>9499</td>\n",
       "      <td>9499</td>\n",
       "      <td>9499</td>\n",
       "      <td>9499</td>\n",
       "      <td>9499</td>\n",
       "    </tr>\n",
       "    <tr>\n",
       "      <th>unique</th>\n",
       "      <td>9499</td>\n",
       "      <td>9499</td>\n",
       "      <td>9499</td>\n",
       "      <td>9497</td>\n",
       "      <td>4556</td>\n",
       "    </tr>\n",
       "    <tr>\n",
       "      <th>top</th>\n",
       "      <td>7</td>\n",
       "      <td>Design Thinking for innovation reflexion-Avril...</td>\n",
       "      <td>[Design, Thinking, for, innovation, reflexion,...</td>\n",
       "      <td>[True, True, True, False, True, True, False, T...</td>\n",
       "      <td>[O, O, O, O, O, O, O, O, O, O, O, O, O, O, O, ...</td>\n",
       "    </tr>\n",
       "    <tr>\n",
       "      <th>freq</th>\n",
       "      <td>1</td>\n",
       "      <td>1</td>\n",
       "      <td>1</td>\n",
       "      <td>2</td>\n",
       "      <td>21</td>\n",
       "    </tr>\n",
       "  </tbody>\n",
       "</table>\n",
       "</div>"
      ],
      "text/plain": [
       "        document                                          full_text  \\\n",
       "count       9499                                               9499   \n",
       "unique      9499                                               9499   \n",
       "top            7  Design Thinking for innovation reflexion-Avril...   \n",
       "freq           1                                                  1   \n",
       "\n",
       "                                                   tokens  \\\n",
       "count                                                9499   \n",
       "unique                                               9499   \n",
       "top     [Design, Thinking, for, innovation, reflexion,...   \n",
       "freq                                                    1   \n",
       "\n",
       "                                      trailing_whitespace  \\\n",
       "count                                                9499   \n",
       "unique                                               9497   \n",
       "top     [True, True, True, False, True, True, False, T...   \n",
       "freq                                                    2   \n",
       "\n",
       "                                                   labels  \n",
       "count                                                9499  \n",
       "unique                                               4556  \n",
       "top     [O, O, O, O, O, O, O, O, O, O, O, O, O, O, O, ...  \n",
       "freq                                                   21  "
      ]
     },
     "execution_count": 7,
     "metadata": {},
     "output_type": "execute_result"
    }
   ],
   "source": [
    "train_df.describe()"
   ]
  },
  {
   "cell_type": "code",
   "execution_count": 8,
   "id": "a51d0419",
   "metadata": {
    "execution": {
     "iopub.execute_input": "2024-05-15T05:20:50.891771Z",
     "iopub.status.busy": "2024-05-15T05:20:50.890825Z",
     "iopub.status.idle": "2024-05-15T05:20:50.898980Z",
     "shell.execute_reply": "2024-05-15T05:20:50.897616Z"
    },
    "papermill": {
     "duration": 0.024453,
     "end_time": "2024-05-15T05:20:50.901877",
     "exception": false,
     "start_time": "2024-05-15T05:20:50.877424",
     "status": "completed"
    },
    "tags": []
   },
   "outputs": [],
   "source": [
    "p = 0.02\n",
    "p_test = 0\n",
    "p_val = 0\n",
    "\n",
    "context_size_piinonpii=10\n",
    "context_size_pii=10\n",
    "missing_word = '\\0'\n",
    "\n",
    "words_piinonpii = set()\n",
    "words_pii = set()\n",
    "words_piinonpii.add(missing_word)\n",
    "words_pii.add(missing_word)\n",
    "\n",
    "piinonpii_train_data = []\n",
    "piinonpii_test_data = []\n",
    "piinonpii_val_data = []\n",
    "\n",
    "pii_train_data = []\n",
    "pii_test_data = []\n",
    "pii_val_data = []"
   ]
  },
  {
   "cell_type": "code",
   "execution_count": 9,
   "id": "4ece7c57",
   "metadata": {
    "execution": {
     "iopub.execute_input": "2024-05-15T05:20:50.927360Z",
     "iopub.status.busy": "2024-05-15T05:20:50.926933Z",
     "iopub.status.idle": "2024-05-15T05:20:59.845194Z",
     "shell.execute_reply": "2024-05-15T05:20:59.843731Z"
    },
    "papermill": {
     "duration": 8.934822,
     "end_time": "2024-05-15T05:20:59.848555",
     "exception": false,
     "start_time": "2024-05-15T05:20:50.913733",
     "status": "completed"
    },
    "tags": []
   },
   "outputs": [],
   "source": [
    "pii_train, nonpii_train, pii_test, nonpii_test, pii_val, nonpii_val = 0, 0, 0, 0, 0, 0\n",
    "for i in range(len(train_raw_data)):\n",
    "    for j in range(len(train_raw_data[i][\"tokens\"])):\n",
    "        if train_raw_data[i][\"labels\"][j] == 'O':\n",
    "            if random.uniform(0, 1) <= p:\n",
    "                prob = random.uniform(0, 1) \n",
    "                if  prob <= p_test:\n",
    "                    piinonpii_test_data.append((i, j))\n",
    "                    nonpii_test += 1\n",
    "                elif prob <= p_test+p_val:\n",
    "                    piinonpii_val_data.append((i, j))\n",
    "                    nonpii_val += 1\n",
    "                else:\n",
    "                    for k in range(max(0, j-context_size_piinonpii), j+1):\n",
    "                        words_piinonpii.add(train_raw_data[i][\"tokens\"][k].lower())\n",
    "                    piinonpii_train_data.append((i, j))\n",
    "                    nonpii_train += 1\n",
    "        else:\n",
    "            prob = random.uniform(0, 1)\n",
    "            if  prob <= p_test:\n",
    "                piinonpii_test_data.append((i, j))\n",
    "                pii_test_data.append((i, j))\n",
    "                pii_test += 1\n",
    "            elif prob <= p_test + p_val:\n",
    "                piinonpii_val_data.append((i, j))\n",
    "                pii_val_data.append((i, j))\n",
    "                pii_val += 1\n",
    "            else:\n",
    "                for k in range(max(0, j-context_size_piinonpii+1), j+1):\n",
    "                    words_piinonpii.add(train_raw_data[i][\"tokens\"][k].lower())\n",
    "                piinonpii_train_data.append((i, k))\n",
    "\n",
    "                for k in range(max(0, j-context_size_pii+1), j+1):\n",
    "                    words_pii.add(train_raw_data[i][\"tokens\"][k].lower())\n",
    "                pii_train_data.append((i, k))\n",
    "            \n",
    "                pii_train += 1"
   ]
  },
  {
   "cell_type": "code",
   "execution_count": 10,
   "id": "b9b7d410",
   "metadata": {
    "execution": {
     "iopub.execute_input": "2024-05-15T05:20:59.874775Z",
     "iopub.status.busy": "2024-05-15T05:20:59.874303Z",
     "iopub.status.idle": "2024-05-15T05:20:59.909268Z",
     "shell.execute_reply": "2024-05-15T05:20:59.908127Z"
    },
    "papermill": {
     "duration": 0.051714,
     "end_time": "2024-05-15T05:20:59.912349",
     "exception": false,
     "start_time": "2024-05-15T05:20:59.860635",
     "status": "completed"
    },
    "tags": []
   },
   "outputs": [],
   "source": [
    "vocabulary_piinonpiii = {word: i for i, word in enumerate(words_piinonpii)}\n",
    "vocabulary_pii = {word: i for i, word in enumerate(words_pii)}"
   ]
  },
  {
   "cell_type": "code",
   "execution_count": 11,
   "id": "80d2be92",
   "metadata": {
    "execution": {
     "iopub.execute_input": "2024-05-15T05:20:59.938576Z",
     "iopub.status.busy": "2024-05-15T05:20:59.938119Z",
     "iopub.status.idle": "2024-05-15T05:20:59.946257Z",
     "shell.execute_reply": "2024-05-15T05:20:59.944689Z"
    },
    "papermill": {
     "duration": 0.024468,
     "end_time": "2024-05-15T05:20:59.948992",
     "exception": false,
     "start_time": "2024-05-15T05:20:59.924524",
     "status": "completed"
    },
    "tags": []
   },
   "outputs": [],
   "source": [
    "embedding_piinonpii = 30\n",
    "lr_piinonpii = 0.001\n",
    "threshold_piinonpii = 0.5\n",
    "\n",
    "embedding_pii = 50\n",
    "lr_pii = 0.001\n",
    "idx_to_class = [\"B-NAME_STUDENT\", \"B-EMAIL\", \"B-USERNAME\", \"B-ID_NUM\", \"B-PHONE_NUM\", \"B-URL_PERSONAL\", \"B-STREET_ADDRESS\", \"I-NAME_STUDENT\", \"I-EMAIL\", \"I-USERNAME\", \"I-ID_NUM\", \"I-PHONE_NUM\", \"I-URL_PERSONAL\", \"I-STREET_ADDRESS\"]\n",
    "class_to_idx = {idx_to_class[i]: i for i in range(len(idx_to_class))}"
   ]
  },
  {
   "cell_type": "code",
   "execution_count": 12,
   "id": "89f8ea58",
   "metadata": {
    "execution": {
     "iopub.execute_input": "2024-05-15T05:20:59.975471Z",
     "iopub.status.busy": "2024-05-15T05:20:59.975028Z",
     "iopub.status.idle": "2024-05-15T05:20:59.988848Z",
     "shell.execute_reply": "2024-05-15T05:20:59.987672Z"
    },
    "papermill": {
     "duration": 0.029856,
     "end_time": "2024-05-15T05:20:59.991404",
     "exception": false,
     "start_time": "2024-05-15T05:20:59.961548",
     "status": "completed"
    },
    "tags": []
   },
   "outputs": [],
   "source": [
    "count = []\n",
    "for document in train_raw_data:\n",
    "    count.append(len(document[\"tokens\"]))"
   ]
  },
  {
   "cell_type": "code",
   "execution_count": 13,
   "id": "e2c2c2a1",
   "metadata": {
    "execution": {
     "iopub.execute_input": "2024-05-15T05:21:00.019949Z",
     "iopub.status.busy": "2024-05-15T05:21:00.019039Z",
     "iopub.status.idle": "2024-05-15T05:21:00.419990Z",
     "shell.execute_reply": "2024-05-15T05:21:00.418864Z"
    },
    "papermill": {
     "duration": 0.418051,
     "end_time": "2024-05-15T05:21:00.422919",
     "exception": false,
     "start_time": "2024-05-15T05:21:00.004868",
     "status": "completed"
    },
    "tags": []
   },
   "outputs": [
    {
     "data": {
      "text/plain": [
       "Text(0.5, 1.0, 'Frequence of tokens in essays')"
      ]
     },
     "execution_count": 13,
     "metadata": {},
     "output_type": "execute_result"
    },
    {
     "data": {
      "image/png": "[encoded data removed]",
      "text/plain": [
       "<Figure size 640x480 with 1 Axes>"
      ]
     },
     "metadata": {},
     "output_type": "display_data"
    }
   ],
   "source": [
    "fig, ax = plt.subplots()\n",
    "\n",
    "ax.hist(count, bins=range(0, 3500, 400))\n",
    "ax.set_xticks(range(0, 3500, 400))\n",
    "ax.set_title(\"Frequence of tokens in essays\")"
   ]
  },
  {
   "cell_type": "code",
   "execution_count": null,
   "id": "7a3edb36",
   "metadata": {
    "papermill": {
     "duration": 0.012184,
     "end_time": "2024-05-15T05:21:00.451054",
     "exception": false,
     "start_time": "2024-05-15T05:21:00.438870",
     "status": "completed"
    },
    "tags": []
   },
   "outputs": [],
   "source": []
  },
  {
   "cell_type": "code",
   "execution_count": 14,
   "id": "267538c1",
   "metadata": {
    "execution": {
     "iopub.execute_input": "2024-05-15T05:21:00.481047Z",
     "iopub.status.busy": "2024-05-15T05:21:00.480531Z",
     "iopub.status.idle": "2024-05-15T05:21:00.940191Z",
     "shell.execute_reply": "2024-05-15T05:21:00.938993Z"
    },
    "papermill": {
     "duration": 0.478536,
     "end_time": "2024-05-15T05:21:00.942560",
     "exception": false,
     "start_time": "2024-05-15T05:21:00.464024",
     "status": "completed"
    },
    "tags": []
   },
   "outputs": [
    {
     "data": {
      "text/plain": [
       "65"
      ]
     },
     "execution_count": 14,
     "metadata": {},
     "output_type": "execute_result"
    }
   ],
   "source": [
    "del words_piinonpii\n",
    "del words_pii\n",
    "gc.collect()"
   ]
  },
  {
   "cell_type": "code",
   "execution_count": 15,
   "id": "384155ea",
   "metadata": {
    "execution": {
     "iopub.execute_input": "2024-05-15T05:21:00.969949Z",
     "iopub.status.busy": "2024-05-15T05:21:00.968727Z",
     "iopub.status.idle": "2024-05-15T05:21:00.979817Z",
     "shell.execute_reply": "2024-05-15T05:21:00.978533Z"
    },
    "papermill": {
     "duration": 0.027753,
     "end_time": "2024-05-15T05:21:00.982656",
     "exception": false,
     "start_time": "2024-05-15T05:21:00.954903",
     "status": "completed"
    },
    "tags": []
   },
   "outputs": [],
   "source": [
    "def createTensor(indices, context_size, vocabulary, pii=False, dataset=None, train=True):\n",
    "    if dataset == None:\n",
    "        dataset = train_raw_data\n",
    "    i, j = indices\n",
    "\n",
    "    data = torch.tensor([(vocabulary[dataset[i][\"tokens\"][k].lower()] if k >= 0 and dataset[i][\"tokens\"][k].lower() in vocabulary else vocabulary[missing_word]) for k in range(j-context_size+1, j+1)], dtype=torch.long)\n",
    "    if not train: return data\n",
    "\n",
    "    label = None\n",
    "    if not pii:\n",
    "        label = torch.tensor([0 if dataset[i][\"labels\"][j] == 'O' else 1], dtype=torch.float32)\n",
    "    else:\n",
    "        label = torch.tensor([class_to_idx[dataset[i][\"labels\"][j]]], dtype=torch.long)\n",
    "\n",
    "    \n",
    "    return (data, label)"
   ]
  },
  {
   "cell_type": "code",
   "execution_count": 16,
   "id": "f6b2c15e",
   "metadata": {
    "execution": {
     "iopub.execute_input": "2024-05-15T05:21:01.011865Z",
     "iopub.status.busy": "2024-05-15T05:21:01.010844Z",
     "iopub.status.idle": "2024-05-15T05:21:01.021326Z",
     "shell.execute_reply": "2024-05-15T05:21:01.020390Z"
    },
    "papermill": {
     "duration": 0.028506,
     "end_time": "2024-05-15T05:21:01.024161",
     "exception": false,
     "start_time": "2024-05-15T05:21:00.995655",
     "status": "completed"
    },
    "tags": []
   },
   "outputs": [],
   "source": [
    "class PIINonPIIDataset(Dataset):\n",
    "    def __init__(self, type='train') -> None:\n",
    "        super().__init__()\n",
    "        self.data = piinonpii_train_data if type=='train' else (piinonpii_val_data if type=='val' else piinonpii_test_data)\n",
    "    \n",
    "    def __len__(self):\n",
    "        return len(self.data)\n",
    "    \n",
    "    def __getitem__(self, index):\n",
    "        if index >= self.__len__():\n",
    "            raise Exception(\"Out of bounds\")\n",
    "        \n",
    "        return createTensor(self.data[index], context_size_piinonpii, vocabulary_piinonpiii)\n",
    "\n",
    "class PIIDataset(Dataset):\n",
    "    def __init__(self, type='train') -> None:\n",
    "        super().__init__()\n",
    "        self.data = pii_train_data if type=='train' else (pii_val_data if type=='val' else pii_test_data)\n",
    "    \n",
    "    def __len__(self):\n",
    "        return len(self.data)\n",
    "    \n",
    "    def __getitem__(self, index):\n",
    "        if index >= self.__len__():\n",
    "            raise Exception(\"Out of bounds\")\n",
    "        \n",
    "        return createTensor(self.data[index], context_size_pii, vocabulary_pii, pii=True)"
   ]
  },
  {
   "cell_type": "code",
   "execution_count": 17,
   "id": "2f80e0f2",
   "metadata": {
    "execution": {
     "iopub.execute_input": "2024-05-15T05:21:01.052044Z",
     "iopub.status.busy": "2024-05-15T05:21:01.051359Z",
     "iopub.status.idle": "2024-05-15T05:21:01.059036Z",
     "shell.execute_reply": "2024-05-15T05:21:01.057831Z"
    },
    "papermill": {
     "duration": 0.025163,
     "end_time": "2024-05-15T05:21:01.062120",
     "exception": false,
     "start_time": "2024-05-15T05:21:01.036957",
     "status": "completed"
    },
    "tags": []
   },
   "outputs": [],
   "source": [
    "class NGramModel(nn.Module):\n",
    "    def __init__(self, vocab_size, embedding_dim, context_size, output_size) -> None:\n",
    "        super(NGramModel, self).__init__()\n",
    "        self.embedding = nn.Embedding(vocab_size, embedding_dim)\n",
    "        self.layers = nn.Sequential(nn.Flatten(), nn.Linear(context_size*embedding_dim, 128), nn.ReLU(), nn.Linear(128, output_size))\n",
    "\n",
    "    def forward(self, x):\n",
    "        embed = self.embedding(x)\n",
    "        return self.layers(embed)\n",
    "\n",
    "    def type(self):\n",
    "        return \"normal\""
   ]
  },
  {
   "cell_type": "code",
   "execution_count": 18,
   "id": "5941c248",
   "metadata": {
    "execution": {
     "iopub.execute_input": "2024-05-15T05:21:01.089809Z",
     "iopub.status.busy": "2024-05-15T05:21:01.089376Z",
     "iopub.status.idle": "2024-05-15T05:21:01.104274Z",
     "shell.execute_reply": "2024-05-15T05:21:01.102788Z"
    },
    "papermill": {
     "duration": 0.032354,
     "end_time": "2024-05-15T05:21:01.107565",
     "exception": false,
     "start_time": "2024-05-15T05:21:01.075211",
     "status": "completed"
    },
    "tags": []
   },
   "outputs": [],
   "source": [
    "class RNN(nn.Module):\n",
    "    def __init__(self, vocab_size, embedding_dim, hidden_sizes) -> None:\n",
    "        super(RNN, self).__init__()\n",
    "        self.hidden_size = hidden_sizes\n",
    "\n",
    "        self.embedding = nn.Embedding(vocab_size, embedding_dim)\n",
    "\n",
    "        hidden_layers = [nn.Linear(embedding_dim, hidden_sizes[0])]\n",
    "        hidden_layers.extend([nn.Linear(hidden_sizes[i-1], hidden_sizes[i]) for i in range(1, len(hidden_sizes))])\n",
    "        self.hidden_layers = nn.Sequential(*hidden_layers)\n",
    "        self.prev_hidden_layers = nn.Sequential(*[nn.Linear(hs, hs) for hs in hidden_sizes])\n",
    "        \n",
    "    \n",
    "    def forward(self, x, hidden):\n",
    "        embed = self.embedding(x)\n",
    "        hidden_outputs = []\n",
    "        for i in range(len(self.hidden_layers)):\n",
    "            hidden_outputs.append(F.tanh(self.hidden_layers[i](embed if len(hidden_outputs) == 0 else hidden_outputs[-1]) + self.prev_hidden_layers[i](hidden[i])))\n",
    "        output = hidden_outputs[-1]\n",
    "        return output, hidden_outputs\n",
    "\n",
    "    def init_hidden(self, batch_size):\n",
    "        return [torch.zeros(batch_size, hs, device=device) for hs in self.hidden_size]\n",
    "\n",
    "    def type(self):\n",
    "        return \"rnn\""
   ]
  },
  {
   "cell_type": "code",
   "execution_count": 19,
   "id": "7d60b061",
   "metadata": {
    "execution": {
     "iopub.execute_input": "2024-05-15T05:21:01.135396Z",
     "iopub.status.busy": "2024-05-15T05:21:01.134966Z",
     "iopub.status.idle": "2024-05-15T05:21:01.148184Z",
     "shell.execute_reply": "2024-05-15T05:21:01.146846Z"
    },
    "papermill": {
     "duration": 0.030387,
     "end_time": "2024-05-15T05:21:01.150937",
     "exception": false,
     "start_time": "2024-05-15T05:21:01.120550",
     "status": "completed"
    },
    "tags": []
   },
   "outputs": [],
   "source": [
    "class LSTMMOdel(nn.Module):\n",
    "    def __init__(self, vocab_size, embedding_dim, hidden_sizes):\n",
    "        super(LSTMMOdel, self).__init__()\n",
    "        self.hidden_sizes = hidden_sizes\n",
    "\n",
    "        self.embedding = nn.Embedding(vocab_size, embedding_dim)\n",
    "\n",
    "        hidden_layers = [nn.LSTM(embedding_dim, hidden_sizes[0], batch_first=True)]\n",
    "        hidden_layers.extend([nn.LSTM(hidden_sizes[i-1], hidden_sizes[i], batch_first=True) for i in range(1, len(hidden_sizes))])\n",
    "        self.hidden_layers = nn.Sequential(*hidden_layers)\n",
    "    \n",
    "    def forward(self, x, h, c):\n",
    "        x = self.embedding(x)\n",
    "        hn, cn = [], []\n",
    "        for i in range(len(self.hidden_sizes)):\n",
    "            x, (ht, ct) = self.hidden_layers[i](x, (h[i], c[i]))\n",
    "            hn.append(ht)\n",
    "            cn.append(ct)\n",
    "        return x[:, -1, :], hn, cn\n",
    "\n",
    "    def init_hidden(self, batch_size):\n",
    "        return [torch.zeros(1, batch_size, hs, device=device) for hs in self.hidden_sizes], [torch.zeros(1, batch_size, hs, device=device) for hs in self.hidden_sizes]\n",
    "\n",
    "    def type(self):\n",
    "        return \"lstm\""
   ]
  },
  {
   "cell_type": "code",
   "execution_count": 20,
   "id": "cccd97b8",
   "metadata": {
    "execution": {
     "iopub.execute_input": "2024-05-15T05:21:01.179263Z",
     "iopub.status.busy": "2024-05-15T05:21:01.178822Z",
     "iopub.status.idle": "2024-05-15T05:21:01.206022Z",
     "shell.execute_reply": "2024-05-15T05:21:01.205080Z"
    },
    "papermill": {
     "duration": 0.044534,
     "end_time": "2024-05-15T05:21:01.208671",
     "exception": false,
     "start_time": "2024-05-15T05:21:01.164137",
     "status": "completed"
    },
    "tags": []
   },
   "outputs": [],
   "source": [
    "def train_model(model, optimizer, loss_fn, data, epochs=10, batch_size=64, pii=False, val_data=None):\n",
    "    model_type = model.type()\n",
    "    train_accs, train_losses, val_accs, val_losses = [], [], [], []\n",
    "    for epoch in range(epochs):\n",
    "        loader = DataLoader(data, shuffle=True, batch_size=batch_size)\n",
    "        train_avg_loss, train_avg_acc = 0, 0\n",
    "        for index, (input_data, label) in enumerate(loader):\n",
    "            input_data = input_data.to(device=device)\n",
    "            label = label.to(device=device)\n",
    "            optimizer.zero_grad()\n",
    "\n",
    "            if model_type == 'rnn':\n",
    "                hidden = model.init_hidden(input_data.shape[0])\n",
    "                for i in range(input_data.shape[1]):\n",
    "                    temp = input_data[:, i]\n",
    "                    output, hidden = model(temp, hidden)\n",
    "            elif model_type == 'normal':\n",
    "                output = model(input_data)\n",
    "            else:\n",
    "                h, c = model.init_hidden(input_data.shape[0])\n",
    "                output, h, c = model(input_data, h, c)\n",
    "\n",
    "            if pii: label = label.squeeze()\n",
    "            loss = loss_fn(output, label)\n",
    "\n",
    "            predictions = torch.argmax(output, dim=1) if pii else torch.where(output >= threshold_piinonpii, 1, 0)\n",
    "            accuracy = ((torch.sum(predictions == label).item())/(label.shape[0]))*100\n",
    "            \n",
    "            train_avg_acc += accuracy\n",
    "            train_avg_loss += loss.item()\n",
    "\n",
    "            loss.backward()\n",
    "            optimizer.step()\n",
    "        \n",
    "\n",
    "        \n",
    "        train_avg_loss /= len(loader)\n",
    "        train_avg_acc /= len(loader)\n",
    "        train_accs.append(train_avg_acc)\n",
    "        train_losses.append(train_avg_loss)\n",
    "        print(\"Train Epoch %s: Loss: %s, Accuracy:%s%%\"%(epoch, train_avg_loss, train_avg_acc))\n",
    "\n",
    "        if val_data == None: continue\n",
    "\n",
    "        val_avg_loss, val_avg_acc = 0, 0\n",
    "        loader = DataLoader(val_data, shuffle=True, batch_size=batch_size)\n",
    "        for index, (input_data, label) in enumerate(loader):\n",
    "            input_data = input_data.to(device=device)\n",
    "            label = label.to(device=device)\n",
    "\n",
    "            if model_type == 'rnn':\n",
    "                hidden = model.init_hidden(input_data.shape[0])\n",
    "                for i in range(input_data.shape[1]):\n",
    "                    temp = input_data[:, i]\n",
    "                    output, hidden = model(temp, hidden)\n",
    "            elif model_type == 'normal':\n",
    "                output = model(input_data)\n",
    "            else:\n",
    "                h, c = model.init_hidden(input_data.shape[0])\n",
    "                output, h, c = model(input_data, h, c)\n",
    "\n",
    "            if pii: label = label.squeeze()\n",
    "            loss = loss_fn(output, label)\n",
    "\n",
    "            predictions = torch.argmax(output, dim=1) if pii else torch.where(output >= threshold_piinonpii, 1, 0)\n",
    "            accuracy = ((torch.sum(predictions == label).item())/(label.shape[0]))*100\n",
    "            \n",
    "            val_avg_acc += accuracy\n",
    "            val_avg_loss += loss.item()\n",
    "        \n",
    "        val_avg_loss /= len(loader)\n",
    "        val_avg_acc /= len(loader)\n",
    "        val_accs.append(val_avg_acc)\n",
    "        val_losses.append(val_avg_loss)\n",
    "        print(\"Val Epoch %s: Loss: %s, Accuracy:%s%%\"%(epoch, val_avg_loss, val_avg_acc))\n",
    "\n",
    "    if val_data != None:\n",
    "        fig, ax = plt.subplots(1, 2, figsize=(10, 5))\n",
    "        ax[0].plot(range(epochs), train_losses, color='blue')\n",
    "        ax[0].plot(range(epochs), val_losses, color='orange')\n",
    "        ax[0].set_xlabel(\"Epoch\")\n",
    "        ax[0].set_ylabel(\"Loss\")\n",
    "        ax[0].legend([\"Training\", \"Validation\"])\n",
    "        ax[0].set_xticks(range(epochs), labels=range(1, epochs+1))\n",
    "\n",
    "        ax[1].plot(range(epochs), train_accs, color='blue')\n",
    "        ax[1].plot(range(epochs), val_accs, color='orange')\n",
    "        ax[1].set_xlabel(\"Epoch\")\n",
    "        ax[1].set_ylabel(\"Accuracy(%)\")\n",
    "        ax[1].legend([\"Training\", \"Validation\"])\n",
    "        ax[1].set_ylim([0, 100])\n",
    "        ax[1].set_xticks(range(epochs), labels=range(1, epochs+1))\n",
    "        fig.tight_layout()"
   ]
  },
  {
   "cell_type": "code",
   "execution_count": 21,
   "id": "03eaa434",
   "metadata": {
    "execution": {
     "iopub.execute_input": "2024-05-15T05:21:01.236400Z",
     "iopub.status.busy": "2024-05-15T05:21:01.235990Z",
     "iopub.status.idle": "2024-05-15T05:21:01.250571Z",
     "shell.execute_reply": "2024-05-15T05:21:01.249580Z"
    },
    "papermill": {
     "duration": 0.03124,
     "end_time": "2024-05-15T05:21:01.252811",
     "exception": false,
     "start_time": "2024-05-15T05:21:01.221571",
     "status": "completed"
    },
    "tags": []
   },
   "outputs": [],
   "source": [
    "def real_test_model(model1, model2):\n",
    "    model_type1, model_type2 = model1.type(), model2.type()\n",
    "    test_data = json.load(open(\"/kaggle/input/pii-detection-removal-from-educational-data/test.json\"))\n",
    "    file = open(\"submission.csv\", \"w\")\n",
    "    file.write(\"row_id,document,token,label\")\n",
    "    preds = 0\n",
    "    for i in range(len(test_data)):\n",
    "        for j in range(len(test_data[i][\"tokens\"])):\n",
    "            input1 = createTensor((i, j), context_size_piinonpii, vocabulary_piinonpiii, False, test_data, False)\n",
    "            input1 = input1.to(device=device)\n",
    "            input1.unsqueeze_(0)\n",
    "\n",
    "            if model_type1 == 'rnn':\n",
    "                hidden = model1.init_hidden(1)\n",
    "                for k in range(input1.shape[1]):\n",
    "                    pred1, hidden = model1(input1[:, k], hidden)\n",
    "            elif model_type1 == 'normal':\n",
    "                pred1 = model1(input1)\n",
    "            else:\n",
    "                h, c = model1.init_hidden(1)\n",
    "                pred1, h, c = model1(input1, h, c)\n",
    "\n",
    "            if pred1.item() < threshold_piinonpii: continue\n",
    "            \n",
    "            input2 = createTensor((i, j), context_size_pii, vocabulary_pii, True, test_data, False)\n",
    "            input2 = input2.to(device=device)\n",
    "            input2.unsqueeze_(0)\n",
    "\n",
    "            if model_type2 == 'rnn':\n",
    "                hidden = model2.init_hidden(1)\n",
    "                for k in range(input2.shape[1]):\n",
    "                    pred2, hidden = model2(input2[:, k], hidden)\n",
    "            elif model_type2 == 'normal':\n",
    "                pred2 = model2(input2)\n",
    "            else:\n",
    "                h, c = model2.init_hidden(1)\n",
    "                pred2, h, c = model2(input2, h, c)\n",
    "            \n",
    "            label = torch.argmax(pred2).item()\n",
    "            file.write(\"\\n%s,%s,%s,%s\"%(preds, test_data[i][\"document\"], j, idx_to_class[label]))\n",
    "            preds += 1\n",
    "    file.close()"
   ]
  },
  {
   "cell_type": "code",
   "execution_count": 22,
   "id": "7cdc51ac",
   "metadata": {
    "execution": {
     "iopub.execute_input": "2024-05-15T05:21:01.280145Z",
     "iopub.status.busy": "2024-05-15T05:21:01.279718Z",
     "iopub.status.idle": "2024-05-15T05:21:04.624005Z",
     "shell.execute_reply": "2024-05-15T05:21:04.622599Z"
    },
    "papermill": {
     "duration": 3.361853,
     "end_time": "2024-05-15T05:21:04.627327",
     "exception": false,
     "start_time": "2024-05-15T05:21:01.265474",
     "status": "completed"
    },
    "tags": []
   },
   "outputs": [],
   "source": [
    "ds_piinonpii = PIINonPIIDataset()\n",
    "model_piinonpii = LSTMMOdel(len(vocabulary_piinonpiii), embedding_piinonpii, [32, 16, 1]).to(device=device)#NGramModel(len(vocabulary_piinonpiii), embedding_piinonpii, context_size_piinonpii, 1).to(device=device) #RNN(len(vocabulary_piinonpiii), embedding_piinonpii, [96, 64, 32], 1) \n",
    "loss_fn_piinonpii = nn.BCEWithLogitsLoss(reduction='mean')\n",
    "optimizer_piinonpii = torch.optim.Adam(model_piinonpii.parameters(), lr_piinonpii)"
   ]
  },
  {
   "cell_type": "code",
   "execution_count": 23,
   "id": "34fba28a",
   "metadata": {
    "execution": {
     "iopub.execute_input": "2024-05-15T05:21:04.655579Z",
     "iopub.status.busy": "2024-05-15T05:21:04.654880Z",
     "iopub.status.idle": "2024-05-15T05:42:37.609301Z",
     "shell.execute_reply": "2024-05-15T05:42:37.608022Z"
    },
    "papermill": {
     "duration": 1292.986875,
     "end_time": "2024-05-15T05:42:37.627248",
     "exception": false,
     "start_time": "2024-05-15T05:21:04.640373",
     "status": "completed"
    },
    "tags": []
   },
   "outputs": [
    {
     "name": "stdout",
     "output_type": "stream",
     "text": [
      "Train Epoch 0: Loss: 0.3811413543545848, Accuracy:93.05600952558835%\n",
      "Train Epoch 1: Loss: 0.34243245683902673, Accuracy:97.15502966868769%\n",
      "Train Epoch 2: Loss: 0.33217739173846766, Accuracy:98.32574854170858%\n",
      "Train Epoch 3: Loss: 0.3276746914174782, Accuracy:98.81850557455246%\n",
      "Train Epoch 4: Loss: 0.32496050869657067, Accuracy:99.09296787448636%\n",
      "Train Epoch 5: Loss: 0.3237198751098325, Accuracy:99.2416704979742%\n",
      "Train Epoch 6: Loss: 0.32263546386092823, Accuracy:99.33227493462832%\n",
      "Train Epoch 7: Loss: 0.32206105694959625, Accuracy:99.3999813223758%\n",
      "Train Epoch 8: Loss: 0.32126130550532006, Accuracy:99.47235711617482%\n",
      "Train Epoch 9: Loss: 0.32085503080597466, Accuracy:99.52300221258011%\n",
      "Train Epoch 10: Loss: 0.3203307752917407, Accuracy:99.56691258871872%\n",
      "Train Epoch 11: Loss: 0.319742387851584, Accuracy:99.62294546133732%\n",
      "Train Epoch 12: Loss: 0.3195778334434682, Accuracy:99.63753735524841%\n",
      "Train Epoch 13: Loss: 0.3193108842116396, Accuracy:99.66088438550617%\n",
      "Train Epoch 14: Loss: 0.3190563607781424, Accuracy:99.68248038849458%\n",
      "Train Epoch 15: Loss: 0.31903635156346116, Accuracy:99.68539876727681%\n",
      "Train Epoch 16: Loss: 0.3190030341478796, Accuracy:99.68831714605902%\n",
      "Train Epoch 17: Loss: 0.3189051998031197, Accuracy:99.68831714605902%\n",
      "Train Epoch 18: Loss: 0.3188955814904315, Accuracy:99.69240287635412%\n",
      "Train Epoch 19: Loss: 0.31868290059549575, Accuracy:99.71458255509899%\n"
     ]
    }
   ],
   "source": [
    "train_model(model_piinonpii, optimizer_piinonpii, loss_fn_piinonpii, ds_piinonpii, epochs=20, batch_size=64, pii=False)"
   ]
  },
  {
   "cell_type": "code",
   "execution_count": 24,
   "id": "cf82d3eb",
   "metadata": {
    "execution": {
     "iopub.execute_input": "2024-05-15T05:42:37.658146Z",
     "iopub.status.busy": "2024-05-15T05:42:37.657722Z",
     "iopub.status.idle": "2024-05-15T05:42:37.682256Z",
     "shell.execute_reply": "2024-05-15T05:42:37.680852Z"
    },
    "papermill": {
     "duration": 0.044017,
     "end_time": "2024-05-15T05:42:37.685107",
     "exception": false,
     "start_time": "2024-05-15T05:42:37.641090",
     "status": "completed"
    },
    "tags": []
   },
   "outputs": [],
   "source": [
    "ds_pii = PIIDataset()\n",
    "model_pii = LSTMMOdel(len(vocabulary_pii), embedding_pii, [256, 128, 64, 32, len(idx_to_class)]).to(device=device)\n",
    "loss_fn_pii = nn.CrossEntropyLoss(reduction=\"mean\")\n",
    "optimizer_pii = torch.optim.Adam(model_pii.parameters(), lr_pii)"
   ]
  },
  {
   "cell_type": "code",
   "execution_count": 25,
   "id": "f3268217",
   "metadata": {
    "execution": {
     "iopub.execute_input": "2024-05-15T05:42:37.715324Z",
     "iopub.status.busy": "2024-05-15T05:42:37.714935Z",
     "iopub.status.idle": "2024-05-15T05:54:58.620829Z",
     "shell.execute_reply": "2024-05-15T05:54:58.619640Z"
    },
    "papermill": {
     "duration": 740.940605,
     "end_time": "2024-05-15T05:54:58.639824",
     "exception": false,
     "start_time": "2024-05-15T05:42:37.699219",
     "status": "completed"
    },
    "tags": []
   },
   "outputs": [
    {
     "name": "stdout",
     "output_type": "stream",
     "text": [
      "Train Epoch 0: Loss: 1.8217156975474578, Accuracy:45.808498896247244%\n",
      "Train Epoch 1: Loss: 1.5452044831206466, Accuracy:57.22337196467991%\n",
      "Train Epoch 2: Loss: 1.4281583977061392, Accuracy:62.3385761589404%\n",
      "Train Epoch 3: Loss: 1.355213604752328, Accuracy:66.4459161147903%\n",
      "Train Epoch 4: Loss: 1.3182500685024472, Accuracy:71.61630794701986%\n",
      "Train Epoch 5: Loss: 1.2807074082608254, Accuracy:85.39321192052981%\n",
      "Train Epoch 6: Loss: 1.2207812284002242, Accuracy:92.13576158940397%\n",
      "Train Epoch 7: Loss: 1.1820830246207468, Accuracy:93.77690397350993%\n",
      "Train Epoch 8: Loss: 1.1627676297497276, Accuracy:94.62541390728477%\n",
      "Train Epoch 9: Loss: 1.1447590223737636, Accuracy:95.54359823399558%\n",
      "Train Epoch 10: Loss: 1.131475985444934, Accuracy:96.27138520971303%\n",
      "Train Epoch 11: Loss: 1.126717965860767, Accuracy:96.49903421633555%\n",
      "Train Epoch 12: Loss: 1.1168530305752955, Accuracy:97.08402317880795%\n",
      "Train Epoch 13: Loss: 1.1135265327184143, Accuracy:97.23371964679912%\n",
      "Train Epoch 14: Loss: 1.1081959772320509, Accuracy:97.49172185430463%\n",
      "Train Epoch 15: Loss: 1.104361559118393, Accuracy:97.74351545253863%\n",
      "Train Epoch 16: Loss: 1.1030652894089554, Accuracy:97.81112030905078%\n",
      "Train Epoch 17: Loss: 1.0990413495773248, Accuracy:97.94701986754967%\n",
      "Train Epoch 18: Loss: 1.0981312092829487, Accuracy:97.97530353200882%\n",
      "Train Epoch 19: Loss: 1.0948243633274475, Accuracy:98.06843267108168%\n",
      "Train Epoch 20: Loss: 1.088038191890085, Accuracy:98.17328918322296%\n",
      "Train Epoch 21: Loss: 1.0863895303103044, Accuracy:98.21812913907284%\n",
      "Train Epoch 22: Loss: 1.0863943705232464, Accuracy:98.185706401766%\n",
      "Train Epoch 23: Loss: 1.0841160223184043, Accuracy:98.28366445916114%\n",
      "Train Epoch 24: Loss: 1.0829057456641797, Accuracy:98.38024282560707%\n",
      "Train Epoch 25: Loss: 1.0812877724502261, Accuracy:98.41335540838853%\n",
      "Train Epoch 26: Loss: 1.081289995058746, Accuracy:98.43405077262693%\n",
      "Train Epoch 27: Loss: 1.082975587308012, Accuracy:98.27883554083886%\n",
      "Train Epoch 28: Loss: 1.0807132484107618, Accuracy:98.43060154525386%\n",
      "Train Epoch 29: Loss: 1.0772847868748847, Accuracy:98.62720750551877%\n"
     ]
    }
   ],
   "source": [
    "train_model(model_pii, optimizer_pii, loss_fn_pii, ds_pii, epochs=30, batch_size=64, pii=True)"
   ]
  },
  {
   "cell_type": "code",
   "execution_count": 26,
   "id": "5d6a5d6d",
   "metadata": {
    "execution": {
     "iopub.execute_input": "2024-05-15T05:54:58.676358Z",
     "iopub.status.busy": "2024-05-15T05:54:58.675998Z",
     "iopub.status.idle": "2024-05-15T05:55:07.282684Z",
     "shell.execute_reply": "2024-05-15T05:55:07.281512Z"
    },
    "papermill": {
     "duration": 8.628667,
     "end_time": "2024-05-15T05:55:07.286081",
     "exception": false,
     "start_time": "2024-05-15T05:54:58.657414",
     "status": "completed"
    },
    "tags": []
   },
   "outputs": [],
   "source": [
    "real_test_model(model_piinonpii, model_pii)"
   ]
  },
  {
   "cell_type": "code",
   "execution_count": null,
   "id": "4535ec3f",
   "metadata": {
    "papermill": {
     "duration": 0.017279,
     "end_time": "2024-05-15T05:55:07.322604",
     "exception": false,
     "start_time": "2024-05-15T05:55:07.305325",
     "status": "completed"
    },
    "tags": []
   },
   "outputs": [],
   "source": []
  },
  {
   "cell_type": "code",
   "execution_count": null,
   "id": "ea07f875",
   "metadata": {
    "papermill": {
     "duration": 0.017163,
     "end_time": "2024-05-15T05:55:07.357520",
     "exception": false,
     "start_time": "2024-05-15T05:55:07.340357",
     "status": "completed"
    },
    "tags": []
   },
   "outputs": [],
   "source": []
  },
  {
   "cell_type": "code",
   "execution_count": null,
   "id": "a1191032",
   "metadata": {
    "papermill": {
     "duration": 0.017193,
     "end_time": "2024-05-15T05:55:07.392859",
     "exception": false,
     "start_time": "2024-05-15T05:55:07.375666",
     "status": "completed"
    },
    "tags": []
   },
   "outputs": [],
   "source": []
  }
 ],
 "metadata": {
  "kaggle": {
   "accelerator": "none",
   "dataSources": [
    {
     "databundleVersionId": 7500999,
     "sourceId": 66653,
     "sourceType": "competition"
    },
    {
     "datasetId": 4995359,
     "sourceId": 8396788,
     "sourceType": "datasetVersion"
    },
    {
     "datasetId": 4995360,
     "sourceId": 8396790,
     "sourceType": "datasetVersion"
    }
   ],
   "dockerImageVersionId": 30698,
   "isGpuEnabled": false,
   "isInternetEnabled": false,
   "language": "python",
   "sourceType": "notebook"
  },
  "kernelspec": {
   "display_name": "Python 3",
   "language": "python",
   "name": "python3"
  },
  "language_info": {
   "codemirror_mode": {
    "name": "ipython",
    "version": 3
   },
   "file_extension": ".py",
   "mimetype": "text/x-python",
   "name": "python",
   "nbconvert_exporter": "python",
   "pygments_lexer": "ipython3",
   "version": "3.10.13"
  },
  "papermill": {
   "default_parameters": {},
   "duration": 2085.430321,
   "end_time": "2024-05-15T05:55:09.646012",
   "environment_variables": {},
   "exception": null,
   "input_path": "__notebook__.ipynb",
   "output_path": "__notebook__.ipynb",
   "parameters": {},
   "start_time": "2024-05-15T05:20:24.215691",
   "version": "2.5.0"
  }
 },
 "nbformat": 4,
 "nbformat_minor": 5
}
